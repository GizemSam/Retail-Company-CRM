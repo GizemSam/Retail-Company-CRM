{
 "cells": [
  {
   "cell_type": "code",
   "execution_count": 1,
   "id": "d4b74d63",
   "metadata": {},
   "outputs": [],
   "source": [
    "import datetime as dt\n",
    "import pandas as pd\n",
    "import matplotlib as plt"
   ]
  },
  {
   "cell_type": "code",
   "execution_count": 2,
   "id": "56650cd4",
   "metadata": {},
   "outputs": [
    {
     "name": "stdout",
     "output_type": "stream",
     "text": [
      "Requirement already satisfied: Lifetimes in c:\\users\\gizem\\anaconda3\\lib\\site-packages (0.11.3)\n",
      "Requirement already satisfied: autograd>=1.2.0 in c:\\users\\gizem\\anaconda3\\lib\\site-packages (from Lifetimes) (1.5)\n",
      "Requirement already satisfied: scipy>=1.0.0 in c:\\users\\gizem\\anaconda3\\lib\\site-packages (from Lifetimes) (1.9.1)\n",
      "Requirement already satisfied: pandas>=0.24.0 in c:\\users\\gizem\\anaconda3\\lib\\site-packages (from Lifetimes) (1.4.4)\n",
      "Requirement already satisfied: numpy>=1.10.0 in c:\\users\\gizem\\anaconda3\\lib\\site-packages (from Lifetimes) (1.21.5)\n",
      "Requirement already satisfied: dill>=0.2.6 in c:\\users\\gizem\\anaconda3\\lib\\site-packages (from Lifetimes) (0.3.4)\n",
      "Requirement already satisfied: future>=0.15.2 in c:\\users\\gizem\\anaconda3\\lib\\site-packages (from autograd>=1.2.0->Lifetimes) (0.18.2)\n",
      "Requirement already satisfied: pytz>=2020.1 in c:\\users\\gizem\\anaconda3\\lib\\site-packages (from pandas>=0.24.0->Lifetimes) (2022.1)\n",
      "Requirement already satisfied: python-dateutil>=2.8.1 in c:\\users\\gizem\\anaconda3\\lib\\site-packages (from pandas>=0.24.0->Lifetimes) (2.8.2)\n",
      "Requirement already satisfied: six>=1.5 in c:\\users\\gizem\\anaconda3\\lib\\site-packages (from python-dateutil>=2.8.1->pandas>=0.24.0->Lifetimes) (1.16.0)\n",
      "Note: you may need to restart the kernel to use updated packages.\n"
     ]
    }
   ],
   "source": [
    "pip install Lifetimes"
   ]
  },
  {
   "cell_type": "code",
   "execution_count": 3,
   "id": "49664d02",
   "metadata": {},
   "outputs": [],
   "source": [
    "from lifetimes import BetaGeoFitter\n",
    "from lifetimes import GammaGammaFitter\n",
    "from lifetimes.plotting import plot_period_transactions"
   ]
  },
  {
   "cell_type": "code",
   "execution_count": 4,
   "id": "e7c9eac4",
   "metadata": {},
   "outputs": [],
   "source": [
    "pd.set_option('display.max_columns', None)\n",
    "pd.set_option('display.width', 500)\n",
    "pd.set_option('display.float_format', lambda x: '%.2f' % x)\n",
    "from sklearn.preprocessing import MinMaxScaler"
   ]
  },
  {
   "cell_type": "markdown",
   "id": "2545a980",
   "metadata": {},
   "source": [
    "---------"
   ]
  },
  {
   "cell_type": "markdown",
   "id": "ae19b449",
   "metadata": {},
   "source": [
    "# Görev 1: Veriyi Anlama ve Hazırlama"
   ]
  },
  {
   "cell_type": "markdown",
   "id": "7e14f329",
   "metadata": {},
   "source": [
    "---------"
   ]
  },
  {
   "cell_type": "markdown",
   "id": "80f35c90",
   "metadata": {},
   "source": [
    "- Invoice: Fatura Numarası ( Eğer bu kod C ile başlıyorsa işlemin iptal edildiğini ifade eder )\n",
    "- StockCode: Ürün kodu ( Her bir ürün için eşsiz )\n",
    "- Description: Ürün ismi\n",
    "- Quantity: Ürün adedi ( Faturalardaki ürünlerden kaçar tane satıldığı)\n",
    "- InvoiceDate: Fatura tarihi\n",
    "- Price: Fatura fiyatı ( Sterlin )\n",
    "- CustomerID: Eşsiz müşteri numarası\n",
    "- Country: Ülke ismi"
   ]
  },
  {
   "cell_type": "markdown",
   "id": "6e213ba8",
   "metadata": {},
   "source": [
    "### Adım 1: Online Retail II excelindeki 2010-2011 verisini okuyunuz. Oluşturduğunuz dataframe’in kopyasını oluşturunuz."
   ]
  },
  {
   "cell_type": "code",
   "execution_count": 5,
   "id": "4bc93ed6",
   "metadata": {},
   "outputs": [],
   "source": [
    "df_ = pd.read_excel(\"online_retail_II.xlsx\", sheet_name=\"Year 2010-2011\")"
   ]
  },
  {
   "cell_type": "code",
   "execution_count": 6,
   "id": "cc2dc246",
   "metadata": {},
   "outputs": [],
   "source": [
    "df = df_.copy()"
   ]
  },
  {
   "cell_type": "markdown",
   "id": "f9234fa8",
   "metadata": {},
   "source": [
    "---------"
   ]
  },
  {
   "cell_type": "markdown",
   "id": "e07369b4",
   "metadata": {},
   "source": [
    "### Adım 2: Veri setinin betimsel istatistiklerini inceleyiniz."
   ]
  },
  {
   "cell_type": "code",
   "execution_count": 7,
   "id": "a9c72cb8",
   "metadata": {},
   "outputs": [
    {
     "data": {
      "text/html": [
       "<div>\n",
       "<style scoped>\n",
       "    .dataframe tbody tr th:only-of-type {\n",
       "        vertical-align: middle;\n",
       "    }\n",
       "\n",
       "    .dataframe tbody tr th {\n",
       "        vertical-align: top;\n",
       "    }\n",
       "\n",
       "    .dataframe thead th {\n",
       "        text-align: right;\n",
       "    }\n",
       "</style>\n",
       "<table border=\"1\" class=\"dataframe\">\n",
       "  <thead>\n",
       "    <tr style=\"text-align: right;\">\n",
       "      <th></th>\n",
       "      <th>count</th>\n",
       "      <th>mean</th>\n",
       "      <th>std</th>\n",
       "      <th>min</th>\n",
       "      <th>25%</th>\n",
       "      <th>50%</th>\n",
       "      <th>75%</th>\n",
       "      <th>max</th>\n",
       "    </tr>\n",
       "  </thead>\n",
       "  <tbody>\n",
       "    <tr>\n",
       "      <th>Quantity</th>\n",
       "      <td>541910.00</td>\n",
       "      <td>9.55</td>\n",
       "      <td>218.08</td>\n",
       "      <td>-80995.00</td>\n",
       "      <td>1.00</td>\n",
       "      <td>3.00</td>\n",
       "      <td>10.00</td>\n",
       "      <td>80995.00</td>\n",
       "    </tr>\n",
       "    <tr>\n",
       "      <th>Price</th>\n",
       "      <td>541910.00</td>\n",
       "      <td>4.61</td>\n",
       "      <td>96.76</td>\n",
       "      <td>-11062.06</td>\n",
       "      <td>1.25</td>\n",
       "      <td>2.08</td>\n",
       "      <td>4.13</td>\n",
       "      <td>38970.00</td>\n",
       "    </tr>\n",
       "    <tr>\n",
       "      <th>Customer ID</th>\n",
       "      <td>406830.00</td>\n",
       "      <td>15287.68</td>\n",
       "      <td>1713.60</td>\n",
       "      <td>12346.00</td>\n",
       "      <td>13953.00</td>\n",
       "      <td>15152.00</td>\n",
       "      <td>16791.00</td>\n",
       "      <td>18287.00</td>\n",
       "    </tr>\n",
       "  </tbody>\n",
       "</table>\n",
       "</div>"
      ],
      "text/plain": [
       "                count     mean     std       min      25%      50%      75%      max\n",
       "Quantity    541910.00     9.55  218.08 -80995.00     1.00     3.00    10.00 80995.00\n",
       "Price       541910.00     4.61   96.76 -11062.06     1.25     2.08     4.13 38970.00\n",
       "Customer ID 406830.00 15287.68 1713.60  12346.00 13953.00 15152.00 16791.00 18287.00"
      ]
     },
     "execution_count": 7,
     "metadata": {},
     "output_type": "execute_result"
    }
   ],
   "source": [
    "df.describe().T"
   ]
  },
  {
   "cell_type": "markdown",
   "id": "a5bcc15c",
   "metadata": {},
   "source": [
    "---------"
   ]
  },
  {
   "cell_type": "markdown",
   "id": "8c534f2e",
   "metadata": {},
   "source": [
    "### Adım 3: Veri setinde eksik gözlem var mı? Varsa hangi değişkende kaç tane eksik gözlem vardır?"
   ]
  },
  {
   "cell_type": "code",
   "execution_count": 9,
   "id": "e4c791f3",
   "metadata": {},
   "outputs": [
    {
     "data": {
      "text/plain": [
       "Invoice             0\n",
       "StockCode           0\n",
       "Description      1454\n",
       "Quantity            0\n",
       "InvoiceDate         0\n",
       "Price               0\n",
       "Customer ID    135080\n",
       "Country             0\n",
       "dtype: int64"
      ]
     },
     "execution_count": 9,
     "metadata": {},
     "output_type": "execute_result"
    }
   ],
   "source": [
    "df.isnull().sum()"
   ]
  },
  {
   "cell_type": "markdown",
   "id": "6707d7ad",
   "metadata": {},
   "source": [
    "---------"
   ]
  },
  {
   "cell_type": "markdown",
   "id": "44547e6b",
   "metadata": {},
   "source": [
    "### Adım 4: Eksik gözlemleri veri setinden çıkartınız. Çıkarma işleminde ‘inplace=True’ parametresini kullanınız."
   ]
  },
  {
   "cell_type": "code",
   "execution_count": 10,
   "id": "19ced9c4",
   "metadata": {},
   "outputs": [],
   "source": [
    "df.dropna(inplace=True)"
   ]
  },
  {
   "cell_type": "code",
   "execution_count": 11,
   "id": "dcc5cb9d",
   "metadata": {},
   "outputs": [
    {
     "data": {
      "text/plain": [
       "Invoice        0\n",
       "StockCode      0\n",
       "Description    0\n",
       "Quantity       0\n",
       "InvoiceDate    0\n",
       "Price          0\n",
       "Customer ID    0\n",
       "Country        0\n",
       "dtype: int64"
      ]
     },
     "execution_count": 11,
     "metadata": {},
     "output_type": "execute_result"
    }
   ],
   "source": [
    "df.isnull().sum() # kontrol edelim , null değerlerimiz veri setinden kaldırılmış."
   ]
  },
  {
   "cell_type": "markdown",
   "id": "96d7d67f",
   "metadata": {},
   "source": [
    "---------"
   ]
  },
  {
   "cell_type": "markdown",
   "id": "5a80afd4",
   "metadata": {},
   "source": [
    "### Adım 5: Eşsiz ürün sayısı kaçtır?"
   ]
  },
  {
   "cell_type": "code",
   "execution_count": 12,
   "id": "0eecd7ea",
   "metadata": {},
   "outputs": [
    {
     "data": {
      "text/plain": [
       "3896"
      ]
     },
     "execution_count": 12,
     "metadata": {},
     "output_type": "execute_result"
    }
   ],
   "source": [
    "df[\"Description\"].nunique()"
   ]
  },
  {
   "cell_type": "markdown",
   "id": "59709d16",
   "metadata": {},
   "source": [
    "---------"
   ]
  },
  {
   "cell_type": "markdown",
   "id": "4c99accb",
   "metadata": {},
   "source": [
    "### Adım 6: Hangi üründen kaçar tane vardır?"
   ]
  },
  {
   "cell_type": "code",
   "execution_count": 13,
   "id": "6affa204",
   "metadata": {},
   "outputs": [
    {
     "data": {
      "text/plain": [
       "WHITE HANGING HEART T-LIGHT HOLDER    2070\n",
       "REGENCY CAKESTAND 3 TIER              1905\n",
       "JUMBO BAG RED RETROSPOT               1662\n",
       "ASSORTED COLOUR BIRD ORNAMENT         1418\n",
       "PARTY BUNTING                         1416\n",
       "Name: Description, dtype: int64"
      ]
     },
     "execution_count": 13,
     "metadata": {},
     "output_type": "execute_result"
    }
   ],
   "source": [
    "df[\"Description\"].value_counts().head()"
   ]
  },
  {
   "cell_type": "markdown",
   "id": "b9d37506",
   "metadata": {},
   "source": [
    "---------"
   ]
  },
  {
   "cell_type": "markdown",
   "id": "d4dea5b0",
   "metadata": {},
   "source": [
    "### Adım 7: En çok sipariş edilen 5 ürünü çoktan aza doğru sıralayınız"
   ]
  },
  {
   "cell_type": "code",
   "execution_count": 14,
   "id": "43bb2747",
   "metadata": {},
   "outputs": [
    {
     "data": {
      "text/html": [
       "<div>\n",
       "<style scoped>\n",
       "    .dataframe tbody tr th:only-of-type {\n",
       "        vertical-align: middle;\n",
       "    }\n",
       "\n",
       "    .dataframe tbody tr th {\n",
       "        vertical-align: top;\n",
       "    }\n",
       "\n",
       "    .dataframe thead th {\n",
       "        text-align: right;\n",
       "    }\n",
       "</style>\n",
       "<table border=\"1\" class=\"dataframe\">\n",
       "  <thead>\n",
       "    <tr style=\"text-align: right;\">\n",
       "      <th></th>\n",
       "      <th>Quantity</th>\n",
       "    </tr>\n",
       "    <tr>\n",
       "      <th>Description</th>\n",
       "      <th></th>\n",
       "    </tr>\n",
       "  </thead>\n",
       "  <tbody>\n",
       "    <tr>\n",
       "      <th>WORLD WAR 2 GLIDERS ASSTD DESIGNS</th>\n",
       "      <td>53215</td>\n",
       "    </tr>\n",
       "    <tr>\n",
       "      <th>JUMBO BAG RED RETROSPOT</th>\n",
       "      <td>45066</td>\n",
       "    </tr>\n",
       "    <tr>\n",
       "      <th>ASSORTED COLOUR BIRD ORNAMENT</th>\n",
       "      <td>35314</td>\n",
       "    </tr>\n",
       "    <tr>\n",
       "      <th>WHITE HANGING HEART T-LIGHT HOLDER</th>\n",
       "      <td>34147</td>\n",
       "    </tr>\n",
       "    <tr>\n",
       "      <th>PACK OF 72 RETROSPOT CAKE CASES</th>\n",
       "      <td>33409</td>\n",
       "    </tr>\n",
       "  </tbody>\n",
       "</table>\n",
       "</div>"
      ],
      "text/plain": [
       "                                    Quantity\n",
       "Description                                 \n",
       "WORLD WAR 2 GLIDERS ASSTD DESIGNS      53215\n",
       "JUMBO BAG RED RETROSPOT                45066\n",
       "ASSORTED COLOUR BIRD ORNAMENT          35314\n",
       "WHITE HANGING HEART T-LIGHT HOLDER     34147\n",
       "PACK OF 72 RETROSPOT CAKE CASES        33409"
      ]
     },
     "execution_count": 14,
     "metadata": {},
     "output_type": "execute_result"
    }
   ],
   "source": [
    "df.groupby(\"Description\").agg({\"Quantity\": \"sum\"}).sort_values(\"Quantity\", ascending=False).head()"
   ]
  },
  {
   "cell_type": "markdown",
   "id": "317a26f9",
   "metadata": {},
   "source": [
    "---------"
   ]
  },
  {
   "cell_type": "markdown",
   "id": "c2041698",
   "metadata": {},
   "source": [
    "### Adım 8: Faturalardaki ‘C’ iptal edilen işlemleri göstermektedir. İptal edilen işlemleri veri setinden çıkartınız."
   ]
  },
  {
   "cell_type": "code",
   "execution_count": 15,
   "id": "8018b191",
   "metadata": {},
   "outputs": [],
   "source": [
    "df = df[~df[\"Invoice\"].str.contains(\"C\", na=False)] # df datasında colon adı Invoice olanın başında c olanları sil"
   ]
  },
  {
   "cell_type": "markdown",
   "id": "c81f76b5",
   "metadata": {},
   "source": [
    "---------"
   ]
  },
  {
   "cell_type": "markdown",
   "id": "eba3ab29",
   "metadata": {},
   "source": [
    "### Adım 9: Fatura başına elde edilen toplam kazancı ifade eden ‘TotalPrice’ adında bir değişken oluşturunuz "
   ]
  },
  {
   "cell_type": "code",
   "execution_count": 16,
   "id": "8e3cc9b2",
   "metadata": {},
   "outputs": [],
   "source": [
    "df[\"TotalPrice\"] = df[\"Quantity\"] * df[\"Price\"]"
   ]
  },
  {
   "cell_type": "code",
   "execution_count": 17,
   "id": "c560ba7f",
   "metadata": {},
   "outputs": [
    {
     "data": {
      "text/html": [
       "<div>\n",
       "<style scoped>\n",
       "    .dataframe tbody tr th:only-of-type {\n",
       "        vertical-align: middle;\n",
       "    }\n",
       "\n",
       "    .dataframe tbody tr th {\n",
       "        vertical-align: top;\n",
       "    }\n",
       "\n",
       "    .dataframe thead th {\n",
       "        text-align: right;\n",
       "    }\n",
       "</style>\n",
       "<table border=\"1\" class=\"dataframe\">\n",
       "  <thead>\n",
       "    <tr style=\"text-align: right;\">\n",
       "      <th></th>\n",
       "      <th>Invoice</th>\n",
       "      <th>StockCode</th>\n",
       "      <th>Description</th>\n",
       "      <th>Quantity</th>\n",
       "      <th>InvoiceDate</th>\n",
       "      <th>Price</th>\n",
       "      <th>Customer ID</th>\n",
       "      <th>Country</th>\n",
       "      <th>TotalPrice</th>\n",
       "    </tr>\n",
       "  </thead>\n",
       "  <tbody>\n",
       "    <tr>\n",
       "      <th>0</th>\n",
       "      <td>536365</td>\n",
       "      <td>85123A</td>\n",
       "      <td>WHITE HANGING HEART T-LIGHT HOLDER</td>\n",
       "      <td>6</td>\n",
       "      <td>2010-12-01 08:26:00</td>\n",
       "      <td>2.55</td>\n",
       "      <td>17850.00</td>\n",
       "      <td>United Kingdom</td>\n",
       "      <td>15.30</td>\n",
       "    </tr>\n",
       "    <tr>\n",
       "      <th>1</th>\n",
       "      <td>536365</td>\n",
       "      <td>71053</td>\n",
       "      <td>WHITE METAL LANTERN</td>\n",
       "      <td>6</td>\n",
       "      <td>2010-12-01 08:26:00</td>\n",
       "      <td>3.39</td>\n",
       "      <td>17850.00</td>\n",
       "      <td>United Kingdom</td>\n",
       "      <td>20.34</td>\n",
       "    </tr>\n",
       "    <tr>\n",
       "      <th>2</th>\n",
       "      <td>536365</td>\n",
       "      <td>84406B</td>\n",
       "      <td>CREAM CUPID HEARTS COAT HANGER</td>\n",
       "      <td>8</td>\n",
       "      <td>2010-12-01 08:26:00</td>\n",
       "      <td>2.75</td>\n",
       "      <td>17850.00</td>\n",
       "      <td>United Kingdom</td>\n",
       "      <td>22.00</td>\n",
       "    </tr>\n",
       "    <tr>\n",
       "      <th>3</th>\n",
       "      <td>536365</td>\n",
       "      <td>84029G</td>\n",
       "      <td>KNITTED UNION FLAG HOT WATER BOTTLE</td>\n",
       "      <td>6</td>\n",
       "      <td>2010-12-01 08:26:00</td>\n",
       "      <td>3.39</td>\n",
       "      <td>17850.00</td>\n",
       "      <td>United Kingdom</td>\n",
       "      <td>20.34</td>\n",
       "    </tr>\n",
       "    <tr>\n",
       "      <th>4</th>\n",
       "      <td>536365</td>\n",
       "      <td>84029E</td>\n",
       "      <td>RED WOOLLY HOTTIE WHITE HEART.</td>\n",
       "      <td>6</td>\n",
       "      <td>2010-12-01 08:26:00</td>\n",
       "      <td>3.39</td>\n",
       "      <td>17850.00</td>\n",
       "      <td>United Kingdom</td>\n",
       "      <td>20.34</td>\n",
       "    </tr>\n",
       "    <tr>\n",
       "      <th>...</th>\n",
       "      <td>...</td>\n",
       "      <td>...</td>\n",
       "      <td>...</td>\n",
       "      <td>...</td>\n",
       "      <td>...</td>\n",
       "      <td>...</td>\n",
       "      <td>...</td>\n",
       "      <td>...</td>\n",
       "      <td>...</td>\n",
       "    </tr>\n",
       "    <tr>\n",
       "      <th>541905</th>\n",
       "      <td>581587</td>\n",
       "      <td>22899</td>\n",
       "      <td>CHILDREN'S APRON DOLLY GIRL</td>\n",
       "      <td>6</td>\n",
       "      <td>2011-12-09 12:50:00</td>\n",
       "      <td>2.10</td>\n",
       "      <td>12680.00</td>\n",
       "      <td>France</td>\n",
       "      <td>12.60</td>\n",
       "    </tr>\n",
       "    <tr>\n",
       "      <th>541906</th>\n",
       "      <td>581587</td>\n",
       "      <td>23254</td>\n",
       "      <td>CHILDRENS CUTLERY DOLLY GIRL</td>\n",
       "      <td>4</td>\n",
       "      <td>2011-12-09 12:50:00</td>\n",
       "      <td>4.15</td>\n",
       "      <td>12680.00</td>\n",
       "      <td>France</td>\n",
       "      <td>16.60</td>\n",
       "    </tr>\n",
       "    <tr>\n",
       "      <th>541907</th>\n",
       "      <td>581587</td>\n",
       "      <td>23255</td>\n",
       "      <td>CHILDRENS CUTLERY CIRCUS PARADE</td>\n",
       "      <td>4</td>\n",
       "      <td>2011-12-09 12:50:00</td>\n",
       "      <td>4.15</td>\n",
       "      <td>12680.00</td>\n",
       "      <td>France</td>\n",
       "      <td>16.60</td>\n",
       "    </tr>\n",
       "    <tr>\n",
       "      <th>541908</th>\n",
       "      <td>581587</td>\n",
       "      <td>22138</td>\n",
       "      <td>BAKING SET 9 PIECE RETROSPOT</td>\n",
       "      <td>3</td>\n",
       "      <td>2011-12-09 12:50:00</td>\n",
       "      <td>4.95</td>\n",
       "      <td>12680.00</td>\n",
       "      <td>France</td>\n",
       "      <td>14.85</td>\n",
       "    </tr>\n",
       "    <tr>\n",
       "      <th>541909</th>\n",
       "      <td>581587</td>\n",
       "      <td>POST</td>\n",
       "      <td>POSTAGE</td>\n",
       "      <td>1</td>\n",
       "      <td>2011-12-09 12:50:00</td>\n",
       "      <td>18.00</td>\n",
       "      <td>12680.00</td>\n",
       "      <td>France</td>\n",
       "      <td>18.00</td>\n",
       "    </tr>\n",
       "  </tbody>\n",
       "</table>\n",
       "<p>397925 rows × 9 columns</p>\n",
       "</div>"
      ],
      "text/plain": [
       "       Invoice StockCode                          Description  Quantity         InvoiceDate  Price  Customer ID         Country  TotalPrice\n",
       "0       536365    85123A   WHITE HANGING HEART T-LIGHT HOLDER         6 2010-12-01 08:26:00   2.55     17850.00  United Kingdom       15.30\n",
       "1       536365     71053                  WHITE METAL LANTERN         6 2010-12-01 08:26:00   3.39     17850.00  United Kingdom       20.34\n",
       "2       536365    84406B       CREAM CUPID HEARTS COAT HANGER         8 2010-12-01 08:26:00   2.75     17850.00  United Kingdom       22.00\n",
       "3       536365    84029G  KNITTED UNION FLAG HOT WATER BOTTLE         6 2010-12-01 08:26:00   3.39     17850.00  United Kingdom       20.34\n",
       "4       536365    84029E       RED WOOLLY HOTTIE WHITE HEART.         6 2010-12-01 08:26:00   3.39     17850.00  United Kingdom       20.34\n",
       "...        ...       ...                                  ...       ...                 ...    ...          ...             ...         ...\n",
       "541905  581587     22899         CHILDREN'S APRON DOLLY GIRL          6 2011-12-09 12:50:00   2.10     12680.00          France       12.60\n",
       "541906  581587     23254        CHILDRENS CUTLERY DOLLY GIRL          4 2011-12-09 12:50:00   4.15     12680.00          France       16.60\n",
       "541907  581587     23255      CHILDRENS CUTLERY CIRCUS PARADE         4 2011-12-09 12:50:00   4.15     12680.00          France       16.60\n",
       "541908  581587     22138        BAKING SET 9 PIECE RETROSPOT          3 2011-12-09 12:50:00   4.95     12680.00          France       14.85\n",
       "541909  581587      POST                              POSTAGE         1 2011-12-09 12:50:00  18.00     12680.00          France       18.00\n",
       "\n",
       "[397925 rows x 9 columns]"
      ]
     },
     "execution_count": 17,
     "metadata": {},
     "output_type": "execute_result"
    }
   ],
   "source": [
    "df"
   ]
  },
  {
   "cell_type": "markdown",
   "id": "ac60c1d9",
   "metadata": {},
   "source": [
    "---------"
   ]
  },
  {
   "cell_type": "markdown",
   "id": "a631b29d",
   "metadata": {},
   "source": [
    "# Görev 2: RFM Metriklerinin Hesaplanması"
   ]
  },
  {
   "cell_type": "markdown",
   "id": "8fbeb2df",
   "metadata": {},
   "source": [
    "---------"
   ]
  },
  {
   "cell_type": "markdown",
   "id": "0e7ec498",
   "metadata": {},
   "source": [
    "### Adım 1: Recency, Frequency ve Monetary tanımlarını yapınız."
   ]
  },
  {
   "cell_type": "markdown",
   "id": "e6351eb2",
   "metadata": {},
   "source": [
    "- Recency(yenilik : analizin yapıldığı tarih- müşterinein son satın aldığı tarih)\n",
    "- Frequency(müşterinin toplan satın alması) \n",
    "- Monetary(toplam parasal değer)"
   ]
  },
  {
   "cell_type": "markdown",
   "id": "9dd93187",
   "metadata": {},
   "source": [
    "---------"
   ]
  },
  {
   "cell_type": "markdown",
   "id": "459a51f8",
   "metadata": {},
   "source": [
    "### Adım 2: Müşteri özelinde Recency, Frequency ve Monetary metriklerini groupby, agg ve lambda ile hesaplayınız.\n",
    "- Adım 3: Hesapladığınız metrikleri rfm isimli bir değişkene atayınız\n",
    "- Adım 4: Oluşturduğunuz metriklerin isimlerini recency, frequency ve monetary olarak değiştiriniz.\n",
    "* recency değeri için bugünün tarihini (2011, 12, 11) olarak kabul ediniz.\n",
    "* rfm dataframe’ini oluşturduktan sonra veri setini \"monetary>0\" olacak şekilde filtreleyiniz"
   ]
  },
  {
   "cell_type": "code",
   "execution_count": 18,
   "id": "b9eb8c09",
   "metadata": {},
   "outputs": [
    {
     "data": {
      "text/html": [
       "<div>\n",
       "<style scoped>\n",
       "    .dataframe tbody tr th:only-of-type {\n",
       "        vertical-align: middle;\n",
       "    }\n",
       "\n",
       "    .dataframe tbody tr th {\n",
       "        vertical-align: top;\n",
       "    }\n",
       "\n",
       "    .dataframe thead th {\n",
       "        text-align: right;\n",
       "    }\n",
       "</style>\n",
       "<table border=\"1\" class=\"dataframe\">\n",
       "  <thead>\n",
       "    <tr style=\"text-align: right;\">\n",
       "      <th></th>\n",
       "      <th>recency</th>\n",
       "      <th>frequency</th>\n",
       "      <th>monetary</th>\n",
       "    </tr>\n",
       "    <tr>\n",
       "      <th>Customer ID</th>\n",
       "      <th></th>\n",
       "      <th></th>\n",
       "      <th></th>\n",
       "    </tr>\n",
       "  </thead>\n",
       "  <tbody>\n",
       "    <tr>\n",
       "      <th>12346.00</th>\n",
       "      <td>326</td>\n",
       "      <td>1</td>\n",
       "      <td>77183.60</td>\n",
       "    </tr>\n",
       "    <tr>\n",
       "      <th>12347.00</th>\n",
       "      <td>3</td>\n",
       "      <td>7</td>\n",
       "      <td>4310.00</td>\n",
       "    </tr>\n",
       "    <tr>\n",
       "      <th>12348.00</th>\n",
       "      <td>76</td>\n",
       "      <td>4</td>\n",
       "      <td>1797.24</td>\n",
       "    </tr>\n",
       "    <tr>\n",
       "      <th>12349.00</th>\n",
       "      <td>19</td>\n",
       "      <td>1</td>\n",
       "      <td>1757.55</td>\n",
       "    </tr>\n",
       "    <tr>\n",
       "      <th>12350.00</th>\n",
       "      <td>311</td>\n",
       "      <td>1</td>\n",
       "      <td>334.40</td>\n",
       "    </tr>\n",
       "  </tbody>\n",
       "</table>\n",
       "</div>"
      ],
      "text/plain": [
       "             recency  frequency  monetary\n",
       "Customer ID                              \n",
       "12346.00         326          1  77183.60\n",
       "12347.00           3          7   4310.00\n",
       "12348.00          76          4   1797.24\n",
       "12349.00          19          1   1757.55\n",
       "12350.00         311          1    334.40"
      ]
     },
     "execution_count": 18,
     "metadata": {},
     "output_type": "execute_result"
    }
   ],
   "source": [
    "df[\"InvoiceDate\"].max() #müşterinein son satın aldığı tarih\n",
    "today_date = dt.datetime(2011, 12, 11) #recency değeri için bugünün tarihini (2011, 12, 11) olarak kabul ediniz.\n",
    "type(today_date)\n",
    "\n",
    "rfm = df.groupby('Customer ID').agg({'InvoiceDate': lambda InvoiceDate: (today_date - InvoiceDate.max()).days,## Recency\n",
    "                                     'Invoice': lambda Invoice: Invoice.nunique(),#Frequency\n",
    "                                     'TotalPrice': lambda TotalPrice: TotalPrice.sum()})#Monetary\n",
    "\n",
    "\n",
    "rfm.columns = ['recency', 'frequency', 'monetary'] # kolon isimlerini yeniden tanımladık\n",
    "\n",
    "rfm = rfm[rfm[\"monetary\"] > 0]\n",
    "\n",
    "rfm.head()\n",
    "\n"
   ]
  },
  {
   "cell_type": "markdown",
   "id": "86f5f3cd",
   "metadata": {},
   "source": [
    "---------"
   ]
  },
  {
   "cell_type": "markdown",
   "id": "cd9b756c",
   "metadata": {},
   "source": [
    "# Görev 3: RFM Skorlarının Oluşturulması ve Tek bir Değişkene Çevrilmesi"
   ]
  },
  {
   "cell_type": "markdown",
   "id": "dca3c87c",
   "metadata": {},
   "source": [
    "### Adım 1: Recency, Frequency ve Monetary metriklerini qcut yardımı ile 1-5 arasında skorlara çeviriniz.\n",
    "- Adım 2: Bu skorları recency_score, frequency_score ve monetary_score olarak kaydediniz.\n",
    "- Adım 3: recency_score ve frequency_score’u tek bir değişken olarak ifade ediniz ve RF_SCORE olarak kaydediniz."
   ]
  },
  {
   "cell_type": "code",
   "execution_count": 19,
   "id": "d261f5ea",
   "metadata": {},
   "outputs": [],
   "source": [
    "# 1 -2\n",
    "rfm[\"recency_score\"] = pd.qcut(rfm['recency'], 5, labels=[5, 4, 3, 2, 1])\n",
    "rfm[\"frequency_score\"] = pd.qcut(rfm['frequency'].rank(method=\"first\"), 5, labels=[1, 2, 3, 4, 5]) \n",
    "rfm[\"monetary_score\"] = pd.qcut(rfm['monetary'], 5, labels=[1, 2, 3, 4, 5])\n",
    "# 3\n",
    "rfm[\"RFM_SCORE\"] = (rfm['recency_score'].astype(str) +\n",
    "                    rfm['frequency_score'].astype(str))\n"
   ]
  },
  {
   "cell_type": "code",
   "execution_count": 20,
   "id": "abd89d39",
   "metadata": {},
   "outputs": [
    {
     "data": {
      "text/html": [
       "<div>\n",
       "<style scoped>\n",
       "    .dataframe tbody tr th:only-of-type {\n",
       "        vertical-align: middle;\n",
       "    }\n",
       "\n",
       "    .dataframe tbody tr th {\n",
       "        vertical-align: top;\n",
       "    }\n",
       "\n",
       "    .dataframe thead th {\n",
       "        text-align: right;\n",
       "    }\n",
       "</style>\n",
       "<table border=\"1\" class=\"dataframe\">\n",
       "  <thead>\n",
       "    <tr style=\"text-align: right;\">\n",
       "      <th></th>\n",
       "      <th>recency</th>\n",
       "      <th>frequency</th>\n",
       "      <th>monetary</th>\n",
       "      <th>recency_score</th>\n",
       "      <th>frequency_score</th>\n",
       "      <th>monetary_score</th>\n",
       "      <th>RFM_SCORE</th>\n",
       "    </tr>\n",
       "    <tr>\n",
       "      <th>Customer ID</th>\n",
       "      <th></th>\n",
       "      <th></th>\n",
       "      <th></th>\n",
       "      <th></th>\n",
       "      <th></th>\n",
       "      <th></th>\n",
       "      <th></th>\n",
       "    </tr>\n",
       "  </thead>\n",
       "  <tbody>\n",
       "    <tr>\n",
       "      <th>12346.00</th>\n",
       "      <td>326</td>\n",
       "      <td>1</td>\n",
       "      <td>77183.60</td>\n",
       "      <td>1</td>\n",
       "      <td>1</td>\n",
       "      <td>5</td>\n",
       "      <td>11</td>\n",
       "    </tr>\n",
       "    <tr>\n",
       "      <th>12347.00</th>\n",
       "      <td>3</td>\n",
       "      <td>7</td>\n",
       "      <td>4310.00</td>\n",
       "      <td>5</td>\n",
       "      <td>5</td>\n",
       "      <td>5</td>\n",
       "      <td>55</td>\n",
       "    </tr>\n",
       "    <tr>\n",
       "      <th>12348.00</th>\n",
       "      <td>76</td>\n",
       "      <td>4</td>\n",
       "      <td>1797.24</td>\n",
       "      <td>2</td>\n",
       "      <td>4</td>\n",
       "      <td>4</td>\n",
       "      <td>24</td>\n",
       "    </tr>\n",
       "    <tr>\n",
       "      <th>12349.00</th>\n",
       "      <td>19</td>\n",
       "      <td>1</td>\n",
       "      <td>1757.55</td>\n",
       "      <td>4</td>\n",
       "      <td>1</td>\n",
       "      <td>4</td>\n",
       "      <td>41</td>\n",
       "    </tr>\n",
       "    <tr>\n",
       "      <th>12350.00</th>\n",
       "      <td>311</td>\n",
       "      <td>1</td>\n",
       "      <td>334.40</td>\n",
       "      <td>1</td>\n",
       "      <td>1</td>\n",
       "      <td>2</td>\n",
       "      <td>11</td>\n",
       "    </tr>\n",
       "    <tr>\n",
       "      <th>...</th>\n",
       "      <td>...</td>\n",
       "      <td>...</td>\n",
       "      <td>...</td>\n",
       "      <td>...</td>\n",
       "      <td>...</td>\n",
       "      <td>...</td>\n",
       "      <td>...</td>\n",
       "    </tr>\n",
       "    <tr>\n",
       "      <th>18280.00</th>\n",
       "      <td>278</td>\n",
       "      <td>1</td>\n",
       "      <td>180.60</td>\n",
       "      <td>1</td>\n",
       "      <td>2</td>\n",
       "      <td>1</td>\n",
       "      <td>12</td>\n",
       "    </tr>\n",
       "    <tr>\n",
       "      <th>18281.00</th>\n",
       "      <td>181</td>\n",
       "      <td>1</td>\n",
       "      <td>80.82</td>\n",
       "      <td>1</td>\n",
       "      <td>2</td>\n",
       "      <td>1</td>\n",
       "      <td>12</td>\n",
       "    </tr>\n",
       "    <tr>\n",
       "      <th>18282.00</th>\n",
       "      <td>8</td>\n",
       "      <td>2</td>\n",
       "      <td>178.05</td>\n",
       "      <td>5</td>\n",
       "      <td>3</td>\n",
       "      <td>1</td>\n",
       "      <td>53</td>\n",
       "    </tr>\n",
       "    <tr>\n",
       "      <th>18283.00</th>\n",
       "      <td>4</td>\n",
       "      <td>16</td>\n",
       "      <td>2094.88</td>\n",
       "      <td>5</td>\n",
       "      <td>5</td>\n",
       "      <td>5</td>\n",
       "      <td>55</td>\n",
       "    </tr>\n",
       "    <tr>\n",
       "      <th>18287.00</th>\n",
       "      <td>43</td>\n",
       "      <td>3</td>\n",
       "      <td>1837.28</td>\n",
       "      <td>3</td>\n",
       "      <td>4</td>\n",
       "      <td>4</td>\n",
       "      <td>34</td>\n",
       "    </tr>\n",
       "  </tbody>\n",
       "</table>\n",
       "<p>4338 rows × 7 columns</p>\n",
       "</div>"
      ],
      "text/plain": [
       "             recency  frequency  monetary recency_score frequency_score monetary_score RFM_SCORE\n",
       "Customer ID                                                                                     \n",
       "12346.00         326          1  77183.60             1               1              5        11\n",
       "12347.00           3          7   4310.00             5               5              5        55\n",
       "12348.00          76          4   1797.24             2               4              4        24\n",
       "12349.00          19          1   1757.55             4               1              4        41\n",
       "12350.00         311          1    334.40             1               1              2        11\n",
       "...              ...        ...       ...           ...             ...            ...       ...\n",
       "18280.00         278          1    180.60             1               2              1        12\n",
       "18281.00         181          1     80.82             1               2              1        12\n",
       "18282.00           8          2    178.05             5               3              1        53\n",
       "18283.00           4         16   2094.88             5               5              5        55\n",
       "18287.00          43          3   1837.28             3               4              4        34\n",
       "\n",
       "[4338 rows x 7 columns]"
      ]
     },
     "execution_count": 20,
     "metadata": {},
     "output_type": "execute_result"
    }
   ],
   "source": [
    "rfm"
   ]
  },
  {
   "cell_type": "markdown",
   "id": "a1c72da1",
   "metadata": {},
   "source": [
    "---------"
   ]
  },
  {
   "cell_type": "markdown",
   "id": "c0f6d2be",
   "metadata": {},
   "source": [
    "# Görev 4: RF Skorunun Segment Olarak Tanımlanması"
   ]
  },
  {
   "cell_type": "markdown",
   "id": "892459d1",
   "metadata": {},
   "source": [
    "---------"
   ]
  },
  {
   "cell_type": "markdown",
   "id": "01c0b321",
   "metadata": {},
   "source": [
    "### Adım 1: Oluşturulan RF skorları için segment tanımlamaları yapınız.\n",
    "### Adım 2: Aşağıdaki seg_map yardımı ile skorları segmentlere çeviriniz"
   ]
  },
  {
   "cell_type": "code",
   "execution_count": 21,
   "id": "6be84fe3",
   "metadata": {},
   "outputs": [],
   "source": [
    "   seg_map = {\n",
    "    r'[1-2][1-2]': 'hibernating', #1. elemanda 1 yada 2  görürsen , 2.elamanda 1 yada 2 gçrürsen hibernating' yaz demek\n",
    "    r'[1-2][3-4]': 'at_Risk',\n",
    "    r'[1-2]5': 'cant_loose',  # 2. elemanda  görürsen köşeli parantez - varsa yada demek.\n",
    "    r'3[1-2]': 'about_to_sleep',\n",
    "    r'33': 'need_attention',  # 1 elemanında ve 2. elemanında 3 görürsen bu isimldirmeyi yap\n",
    "    r'[3-4][4-5]': 'loyal_customers',\n",
    "    r'41': 'promising',\n",
    "    r'51': 'new_customers',\n",
    "    r'[4-5][2-3]': 'potential_loyalists',\n",
    "    r'5[4-5]': 'champions'\n",
    "   }"
   ]
  },
  {
   "cell_type": "code",
   "execution_count": 22,
   "id": "14567dde",
   "metadata": {},
   "outputs": [],
   "source": [
    "rfm['segment'] = rfm['RFM_SCORE'].replace(seg_map, regex=True) # RFM_SCORE göre segmetleri tanımladık"
   ]
  },
  {
   "cell_type": "markdown",
   "id": "b6efffd7",
   "metadata": {},
   "source": [
    "---------"
   ]
  },
  {
   "cell_type": "markdown",
   "id": "a4c9bad7",
   "metadata": {},
   "source": [
    "# Görev 5: Aksiyon Zamanı !"
   ]
  },
  {
   "cell_type": "markdown",
   "id": "82618d1a",
   "metadata": {},
   "source": [
    "### Adım 1: Önemli gördüğünü 3 segmenti seçiniz. Bu üç segmenti hem aksiyon kararları açısından hemde segmentlerin yapısı açısından(ortalama RFM değerleri) yorumlayınız."
   ]
  },
  {
   "cell_type": "code",
   "execution_count": 23,
   "id": "e7894830",
   "metadata": {
    "scrolled": true
   },
   "outputs": [
    {
     "data": {
      "text/html": [
       "<div>\n",
       "<style scoped>\n",
       "    .dataframe tbody tr th:only-of-type {\n",
       "        vertical-align: middle;\n",
       "    }\n",
       "\n",
       "    .dataframe tbody tr th {\n",
       "        vertical-align: top;\n",
       "    }\n",
       "\n",
       "    .dataframe thead tr th {\n",
       "        text-align: left;\n",
       "    }\n",
       "\n",
       "    .dataframe thead tr:last-of-type th {\n",
       "        text-align: right;\n",
       "    }\n",
       "</style>\n",
       "<table border=\"1\" class=\"dataframe\">\n",
       "  <thead>\n",
       "    <tr>\n",
       "      <th></th>\n",
       "      <th>recency</th>\n",
       "      <th>frequency</th>\n",
       "      <th>monetary</th>\n",
       "    </tr>\n",
       "    <tr>\n",
       "      <th></th>\n",
       "      <th>mean</th>\n",
       "      <th>mean</th>\n",
       "      <th>mean</th>\n",
       "    </tr>\n",
       "    <tr>\n",
       "      <th>segment</th>\n",
       "      <th></th>\n",
       "      <th></th>\n",
       "      <th></th>\n",
       "    </tr>\n",
       "  </thead>\n",
       "  <tbody>\n",
       "    <tr>\n",
       "      <th>about_to_sleep</th>\n",
       "      <td>53.31</td>\n",
       "      <td>1.16</td>\n",
       "      <td>471.99</td>\n",
       "    </tr>\n",
       "    <tr>\n",
       "      <th>at_Risk</th>\n",
       "      <td>153.79</td>\n",
       "      <td>2.88</td>\n",
       "      <td>1084.54</td>\n",
       "    </tr>\n",
       "    <tr>\n",
       "      <th>cant_loose</th>\n",
       "      <td>132.97</td>\n",
       "      <td>8.38</td>\n",
       "      <td>2796.16</td>\n",
       "    </tr>\n",
       "    <tr>\n",
       "      <th>champions</th>\n",
       "      <td>6.36</td>\n",
       "      <td>12.42</td>\n",
       "      <td>6857.96</td>\n",
       "    </tr>\n",
       "    <tr>\n",
       "      <th>hibernating</th>\n",
       "      <td>217.61</td>\n",
       "      <td>1.10</td>\n",
       "      <td>488.64</td>\n",
       "    </tr>\n",
       "    <tr>\n",
       "      <th>loyal_customers</th>\n",
       "      <td>33.61</td>\n",
       "      <td>6.48</td>\n",
       "      <td>2864.25</td>\n",
       "    </tr>\n",
       "    <tr>\n",
       "      <th>need_attention</th>\n",
       "      <td>52.43</td>\n",
       "      <td>2.33</td>\n",
       "      <td>897.63</td>\n",
       "    </tr>\n",
       "    <tr>\n",
       "      <th>new_customers</th>\n",
       "      <td>7.43</td>\n",
       "      <td>1.00</td>\n",
       "      <td>388.21</td>\n",
       "    </tr>\n",
       "    <tr>\n",
       "      <th>potential_loyalists</th>\n",
       "      <td>17.40</td>\n",
       "      <td>2.01</td>\n",
       "      <td>1041.22</td>\n",
       "    </tr>\n",
       "    <tr>\n",
       "      <th>promising</th>\n",
       "      <td>23.51</td>\n",
       "      <td>1.00</td>\n",
       "      <td>294.01</td>\n",
       "    </tr>\n",
       "  </tbody>\n",
       "</table>\n",
       "</div>"
      ],
      "text/plain": [
       "                    recency frequency monetary\n",
       "                       mean      mean     mean\n",
       "segment                                       \n",
       "about_to_sleep        53.31      1.16   471.99\n",
       "at_Risk              153.79      2.88  1084.54\n",
       "cant_loose           132.97      8.38  2796.16\n",
       "champions              6.36     12.42  6857.96\n",
       "hibernating          217.61      1.10   488.64\n",
       "loyal_customers       33.61      6.48  2864.25\n",
       "need_attention        52.43      2.33   897.63\n",
       "new_customers          7.43      1.00   388.21\n",
       "potential_loyalists   17.40      2.01  1041.22\n",
       "promising             23.51      1.00   294.01"
      ]
     },
     "execution_count": 23,
     "metadata": {},
     "output_type": "execute_result"
    }
   ],
   "source": [
    "rfm[[\"segment\", \"recency\", \"frequency\", \"monetary\"]].groupby(\"segment\").agg([\"mean\"])"
   ]
  },
  {
   "cell_type": "markdown",
   "id": "8298e557",
   "metadata": {},
   "source": [
    "- champions katogerisine sahip müşterilerin getirilerinün  yüksek olduğunu görüyoruz bu müşteriler için özel kampanyalar , hediyeler verilebilir.\n",
    "\n"
   ]
  },
  {
   "cell_type": "markdown",
   "id": "4dcede0e",
   "metadata": {},
   "source": [
    "### 2: \"Loyal Customers\" sınıfına ait customer ID'leri seçerek excel çıktısını alınız."
   ]
  },
  {
   "cell_type": "code",
   "execution_count": null,
   "id": "64599c36",
   "metadata": {},
   "outputs": [],
   "source": [
    "target_customers = rfm[rfm[\"segment\"].isin([\"loyal_customers\"])]|df[\"Customer ID\"]"
   ]
  },
  {
   "cell_type": "code",
   "execution_count": null,
   "id": "11de5d66",
   "metadata": {
    "scrolled": true
   },
   "outputs": [],
   "source": [
    "rfm.head()"
   ]
  },
  {
   "cell_type": "code",
   "execution_count": null,
   "id": "d5ebf261",
   "metadata": {},
   "outputs": [],
   "source": [
    "target_customers.to_xlsx(\"hedef_müşteri_id.xlsx\", index=False)"
   ]
  }
 ],
 "metadata": {
  "kernelspec": {
   "display_name": "Python 3 (ipykernel)",
   "language": "python",
   "name": "python3"
  },
  "language_info": {
   "codemirror_mode": {
    "name": "ipython",
    "version": 3
   },
   "file_extension": ".py",
   "mimetype": "text/x-python",
   "name": "python",
   "nbconvert_exporter": "python",
   "pygments_lexer": "ipython3",
   "version": "3.9.13"
  }
 },
 "nbformat": 4,
 "nbformat_minor": 5
}
